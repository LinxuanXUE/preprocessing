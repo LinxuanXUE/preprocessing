{
 "cells": [
  {
   "cell_type": "code",
   "execution_count": 2,
   "id": "6a314b2e",
   "metadata": {},
   "outputs": [
    {
     "data": {
      "text/plain": [
       "'\\n\\nDataset from: https://lhncbc.nlm.nih.gov/publication/pub9932\\n\\nBinary problem:\\nQuestion is: Is the image uninfected? If yes, probability is close to 1.\\nIf no, the probablility is close to 0.\\n\\nThis is because we added label 1 to uninfected images. \\nIn summary, probability result close to 1 reflects uninfected image\\nand close to 0 reflects parasitized image\\n\\n'"
      ]
     },
     "execution_count": 2,
     "metadata": {},
     "output_type": "execute_result"
    }
   ],
   "source": [
    "#!/usr/bin/env python\n",
    "__author__ = \"Sreenivas Bhattiprolu\"\n",
    "__license__ = \"Feel free to copy, I appreciate if you acknowledge Python for Microscopists\"\n",
    "\n",
    "\n",
    "# https://youtu.be/vF21cC-8G1U\n",
    "# https://youtu.be/Joh3LOaG8Q0\n",
    "\n",
    "\"\"\"\n",
    "\n",
    "Dataset from: https://lhncbc.nlm.nih.gov/publication/pub9932\n",
    "\n",
    "Binary problem:\n",
    "Question is: Is the image uninfected? If yes, probability is close to 1.\n",
    "If no, the probablility is close to 0.\n",
    "\n",
    "This is because we added label 1 to uninfected images. \n",
    "In summary, probability result close to 1 reflects uninfected image\n",
    "and close to 0 reflects parasitized image\n",
    "\n",
    "\"\"\""
   ]
  },
  {
   "cell_type": "markdown",
   "id": "8d9f7d9a",
   "metadata": {},
   "source": [
    "#  Charger les librairies"
   ]
  },
  {
   "cell_type": "markdown",
   "id": "50aac87d",
   "metadata": {},
   "source": [
    "## Keras"
   ]
  },
  {
   "cell_type": "code",
   "execution_count": 3,
   "id": "9bc87024",
   "metadata": {},
   "outputs": [],
   "source": [
    "# Keras est une libraire pour écrire des réseaux de neurones torche\n",
    "from keras.preprocessing.image import ImageDataGenerator\n",
    "from keras.models import Sequential\n",
    "from keras.layers import Conv2D, MaxPooling2D, BatchNormalization\n",
    "from keras.layers import Activation, Dropout, Flatten, Dense\n",
    "from keras.layers import SpatialDropout2D\n",
    "from keras.applications.mobilenet_v2 import MobileNetV2\n",
    "from keras.layers import Activation, Dropout, Flatten, Dense, GlobalAveragePooling2D\n",
    "from keras.losses import BinaryCrossentropy\n",
    "from keras.optimizers import adam_v2\n",
    "#from keras import backend as K\n",
    "#from keras.utils import to_categorical"
   ]
  },
  {
   "cell_type": "markdown",
   "id": "8d778a24",
   "metadata": {},
   "source": [
    "## OS CV2 "
   ]
  },
  {
   "cell_type": "code",
   "execution_count": 4,
   "id": "aa53b814",
   "metadata": {},
   "outputs": [],
   "source": [
    "import os # Pour lire les images\n",
    "import cv2\n",
    "from PIL import Image"
   ]
  },
  {
   "cell_type": "markdown",
   "id": "25de3e8d",
   "metadata": {},
   "source": [
    "## Sk-learn "
   ]
  },
  {
   "cell_type": "code",
   "execution_count": 5,
   "id": "c23a9f67",
   "metadata": {},
   "outputs": [],
   "source": [
    "# 1.diverser dataset \n",
    "# 2.evaluer le modele\n",
    "import numpy as np\n",
    "from sklearn.model_selection import train_test_split\n",
    "from sklearn.metrics import roc_curve\n",
    "from sklearn.metrics import confusion_matrix\n",
    "from sklearn.metrics import auc\n",
    "import warnings\n",
    "warnings.simplefilter(\"ignore\")   #### Supprimer l'avertissement"
   ]
  },
  {
   "cell_type": "markdown",
   "id": "31d2f8b0",
   "metadata": {},
   "source": [
    "# Charger les données"
   ]
  },
  {
   "cell_type": "code",
   "execution_count": 6,
   "id": "cc2fc5de",
   "metadata": {},
   "outputs": [],
   "source": [
    "#image_directory = 'cell_images/'\n",
    "image_directory = 'images\\\\train/'\n",
    "\n",
    "SIZE = 150\n",
    "BATCH_SIZE = 16 # 批量大小\n",
    "EPOCHS = 150    # 迭代次数\n",
    "\n",
    "\n",
    "dataset = []  #Many ways to handle data, you can use pandas. Here, we are using a list format.  \n",
    "label = []  #Place holders to define add labels. We will add 0 to all parasitized images and 1 to uninfected.\n",
    "\n",
    "dirty_images = os.listdir(image_directory + 'dirty/')\n",
    "for i, image_name in enumerate(dirty_images):    #Remember enumerate method adds a counter and returns the enumerate object\n",
    "    \n",
    "    if (image_name.split('.')[-1] in ['jpeg','jpg']):\n",
    "        image = cv2.imread(image_directory + 'dirty/' + image_name) # 读取图像\n",
    "        image = Image.fromarray(image, 'RGB')# Décomposer l'image en plusieurs petits pixels pour le calcul\n",
    "        image = image.resize((224,224))\n",
    "        dataset.append(np.array(image)/255.0)\n",
    "        label.append(0)\n",
    "\n",
    "#Iterate through all images in Uninfected folder, resize to 64 x 64\n",
    "#Then save into the same numpy array 'dataset' but with label 1\n",
    "\n",
    "clean_images = os.listdir(image_directory + 'clean/')\n",
    "for i, image_name in enumerate(clean_images):\n",
    "    if (image_name.split('.')[-1] in ['jpeg','jpg']):\n",
    "        image = cv2.imread(image_directory + 'clean/' + image_name)\n",
    "        image = Image.fromarray(image, 'RGB')\n",
    "        image = image.resize((224,224))\n",
    "        dataset.append(np.array(image)/255.0)\n",
    "        label.append(1)"
   ]
  },
  {
   "cell_type": "markdown",
   "id": "d3e9d439",
   "metadata": {},
   "source": [
    "# Diviser le trainset et testset"
   ]
  },
  {
   "cell_type": "code",
   "execution_count": 7,
   "id": "d646cc34",
   "metadata": {},
   "outputs": [
    {
     "name": "stdout",
     "output_type": "stream",
     "text": [
      "X_train (1769, 224, 224, 3)\n",
      "y_train (1769,)\n",
      "label_1 975\n",
      "X_test (443, 224, 224, 3)\n",
      "y_test (443,)\n",
      "label_1 229\n"
     ]
    }
   ],
   "source": [
    "dataset = np.array(dataset)\n",
    "label = np.array(label)\n",
    "\n",
    "X_train, X_test, y_train, y_test = train_test_split(dataset, label, test_size = 0.20, random_state = 0)\n",
    "\n",
    "\n",
    "print(\"X_train\",(str(X_train.shape)))\n",
    "print(\"y_train\",(str(y_train.shape)))\n",
    "print(\"label_1\",np.sum(y_train))\n",
    "print(\"X_test\",(str(X_test.shape)))\n",
    "print(\"y_test\",(str(y_test.shape)))\n",
    "print(\"label_1\",np.sum(y_test))\n"
   ]
  },
  {
   "cell_type": "markdown",
   "id": "1030ce30",
   "metadata": {},
   "source": [
    "# Normalization  non moins la moyenne​"
   ]
  },
  {
   "cell_type": "code",
   "execution_count": 8,
   "id": "79773872",
   "metadata": {},
   "outputs": [],
   "source": [
    "#Without scaling (normalize) the training may not converge. \n",
    "#Normalization is a rescaling of the data from the original range \n",
    "#so that all values are within the range of 0 and 1.\n",
    "from keras.utils.np_utils import normalize\n",
    "#X_train = normalize(X_train, axis=1)\n",
    "#X_test = normalize(X_test, axis=1)\n",
    "\n",
    "#Do not do one-hot encoding as it generates a shape of (num, 2)\n",
    "#But the network expects an input of (num, 1) for the last layer for binary classification\n",
    "#y_train = to_categorical(y_train)\n",
    "#y_test = to_categorical(y_test)"
   ]
  },
  {
   "cell_type": "markdown",
   "id": "5647dd01",
   "metadata": {},
   "source": [
    "# Exécutions du modèle"
   ]
  },
  {
   "cell_type": "markdown",
   "id": "58703253",
   "metadata": {},
   "source": [
    "## Former le modèle"
   ]
  },
  {
   "cell_type": "code",
   "execution_count": 9,
   "id": "45f830ac",
   "metadata": {},
   "outputs": [
    {
     "name": "stdout",
     "output_type": "stream",
     "text": [
      "Model: \"sequential\"\n",
      "_________________________________________________________________\n",
      " Layer (type)                Output Shape              Param #   \n",
      "=================================================================\n",
      " mobilenetv2_1.00_224 (Funct  (None, 7, 7, 1280)       2257984   \n",
      " ional)                                                          \n",
      "                                                                 \n",
      " global_average_pooling2d (G  (None, 1280)             0         \n",
      " lobalAveragePooling2D)                                          \n",
      "                                                                 \n",
      " dense (Dense)               (None, 1)                 1281      \n",
      "                                                                 \n",
      "=================================================================\n",
      "Total params: 2,259,265\n",
      "Trainable params: 2,040,065\n",
      "Non-trainable params: 219,200\n",
      "_________________________________________________________________\n",
      "Model: \"sequential\"\n",
      "_________________________________________________________________\n",
      " Layer (type)                Output Shape              Param #   \n",
      "=================================================================\n",
      " mobilenetv2_1.00_224 (Funct  (None, 7, 7, 1280)       2257984   \n",
      " ional)                                                          \n",
      "                                                                 \n",
      " global_average_pooling2d (G  (None, 1280)             0         \n",
      " lobalAveragePooling2D)                                          \n",
      "                                                                 \n",
      " dense (Dense)               (None, 1)                 1281      \n",
      "                                                                 \n",
      "=================================================================\n",
      "Total params: 2,259,265\n",
      "Trainable params: 2,040,065\n",
      "Non-trainable params: 219,200\n",
      "_________________________________________________________________\n",
      "None\n"
     ]
    }
   ],
   "source": [
    "###2 conv and pool layers. with some normalization and drops in between.\n",
    "\n",
    "INPUT_SHAPE = (224,224,3)   #change to (SIZE, SIZE, 3)\n",
    "\n",
    "\n",
    "#model = Sequential()\n",
    "#model.add(Conv2D(32, (3, 3), input_shape=INPUT_SHAPE))\n",
    "#model.add(SpatialDropout2D(0.5))\n",
    "#model.add(Activation('relu'))\n",
    "#model.add(MaxPooling2D(pool_size=(2, 2)))\n",
    "\n",
    "#model.add(Conv2D(32, (3, 3), kernel_initializer = 'he_uniform'))\n",
    "#model.add(SpatialDropout2D(0.5))\n",
    "#model.add(Activation('relu'))\n",
    "#model.add(MaxPooling2D(pool_size=(2, 2)))\n",
    "\n",
    "#model.add(Conv2D(64, (3, 3), kernel_initializer = 'he_uniform'))\n",
    "#model.add(SpatialDropout2D(0.5))\n",
    "#model.add(Activation('relu'))\n",
    "#model.add(MaxPooling2D(pool_size=(2, 2)))\n",
    "\n",
    "##model.add(Flatten())\n",
    "#model.add(Dense(8))\n",
    "#model.add(BatchNormalization())\n",
    "#model.add(Activation('relu'))\n",
    "#model.add(Dropout(0.5))\n",
    "\n",
    "#model.add(Dense(1))\n",
    "#model.add(BatchNormalization())\n",
    "#model.add(Activation('sigmoid'))\n",
    "\n",
    "#Do not use softmax for binary classification\n",
    "#Softmax is useful for mutually exclusive classes, either cat or dog but not both.\n",
    "#Also, softmax outputs all add to 1. So good for multi class problems where each\n",
    "#class is given a probability and all add to 1. Highest one wins. \n",
    "\n",
    "#Sigmoid outputs probability. Can be used for non-mutually exclusive problems.\n",
    "#But, also good for binary mutually exclusive (cat or not cat).\n",
    "\n",
    "\n",
    "mobile_v2 = MobileNetV2(include_top=False, input_shape=(224,224,3))\n",
    "\n",
    "###############  include_top=False  ###     1.Les couches précédentes ne participent pas à la formation\n",
    "###############  layers_to_freeze = 80 ### 2.Les paramètres qui doivent être ajustés commencent à partir de la couche 80\n",
    "\n",
    "#choose how many layers to freeze, 80~120 same res on this task # 需要调参数的内容\n",
    "layers_to_freeze = 80\n",
    "\n",
    "for layer in mobile_v2.layers[:layers_to_freeze]:\n",
    "    layer.trainable = False\n",
    "\n",
    "model = Sequential([mobile_v2, GlobalAveragePooling2D(), Dense(1, activation='sigmoid')]) \n",
    "########### Dense ##  former un classificateur binaire \n",
    "model.summary()\n",
    "\n",
    "#As we are training the top layers of the MobileNet, lr stays low\n",
    "\n",
    "############### 3. Enfin, former un classificateur binaire \n",
    "model.compile(\n",
    "    loss= BinaryCrossentropy(from_logits=True), optimizer=adam_v2.Adam(1e-5),\n",
    "    metrics=['accuracy'])\n",
    "\n",
    "#model.compile(loss='binary_crossentropy',    # 分类\n",
    "              #optimizer='rmsprop',             #also try adam 优化\n",
    "              #metrics=['accuracy'])\n",
    "\n",
    "print(model.summary()) "
   ]
  },
  {
   "cell_type": "code",
   "execution_count": 10,
   "id": "04f5655a",
   "metadata": {},
   "outputs": [
    {
     "data": {
      "text/plain": [
       "154"
      ]
     },
     "execution_count": 10,
     "metadata": {},
     "output_type": "execute_result"
    }
   ],
   "source": [
    "len(mobile_v2.layers)"
   ]
  },
  {
   "cell_type": "code",
   "execution_count": null,
   "id": "eb0feb0a",
   "metadata": {},
   "outputs": [],
   "source": [
    "history = model.fit(X_train,\n",
    "                         y_train,\n",
    "                         batch_size = BATCH_SIZE,\n",
    "                         verbose = 1,\n",
    "                         epochs = 300,\n",
    "                         validation_data=(X_test,y_test),\n",
    "                         shuffle = False\n",
    "                     )\n",
    "\n",
    "\n",
    "model.save('waste_model_10epochs.h5')"
   ]
  },
  {
   "cell_type": "markdown",
   "id": "384fb2df",
   "metadata": {},
   "source": [
    "## Tester le modèle "
   ]
  },
  {
   "cell_type": "code",
   "execution_count": null,
   "id": "4eaf48e6",
   "metadata": {},
   "outputs": [],
   "source": [
    "#Test the model on one image (for 300 epochs)\n",
    "#img 23 is parasitized - correctly predicts near 0 probability\n",
    "#Img 22, parasitized, correctly lables (low value) but relatively high value.\n",
    "#img 24 is uninfected, correctly predicts as uninfected\n",
    "#img 26 is parasitized but incorrectly gives high value for prediction, uninfected.\n",
    "\n",
    "n=2  #Select the index of image to be loaded for testing\n",
    "img = X_test[n]\n",
    "plt.imshow(img)\n",
    "input_img = np.expand_dims(img, axis=0) #Expand dims so the input is (num images, x, y, c) # 模型增加维度变成我们需要的维度\n",
    "print(\"The prediction for this image is: \", model.predict(input_img))\n",
    "print(\"The actual label for this image is: \", y_test[n])\n",
    "\n",
    "#Instead f checking for each image, we can evaluate the model on all test data\n",
    "#for accuracy\n"
   ]
  },
  {
   "cell_type": "code",
   "execution_count": null,
   "id": "351b6265",
   "metadata": {},
   "outputs": [],
   "source": [
    "\n",
    "#We can load the trained model, so we don't have to train again for 300 epochs!\n",
    "from keras.models import load_model\n",
    "# load model\n",
    "model = load_model('waste_model.h5')\n",
    "\n",
    "#For 300 epochs, giving 82.5% accuracy\n",
    "\n",
    "_, acc = model.evaluate(X_test, y_test)\n",
    "print(\"Accuracy = \", (acc * 100.0), \"%\")\n",
    "\n",
    "#How do we know how it is doing for parasitized vs uninfected? "
   ]
  },
  {
   "cell_type": "markdown",
   "id": "003b34eb",
   "metadata": {},
   "source": [
    "# Modèle d'évaluation"
   ]
  },
  {
   "cell_type": "markdown",
   "id": "d3b4e5bd",
   "metadata": {},
   "source": [
    "## Confusion matrix"
   ]
  },
  {
   "cell_type": "code",
   "execution_count": null,
   "id": "8564ce3a",
   "metadata": {},
   "outputs": [],
   "source": [
    "\n",
    "#Confusion matrix\n",
    "#We compare labels and plot them based on correct or wrong predictions.\n",
    "#Since sigmoid outputs probabilities we need to apply threshold to convert to label.\n",
    "\n",
    "#mythreshold=0.908\n",
    "mythreshold=0.44\n",
    "\n",
    "\n",
    "y_pred = (model.predict(X_test)>= mythreshold).astype(int)\n",
    "cm=confusion_matrix(y_test, y_pred)\n",
    "print(cm)\n",
    "\n",
    "#Check the confusion matrix for various thresholds. Which one is good?\n",
    "#Need to balance positive, negative, false positive and false negative. \n",
    "#ROC can help identify the right threshold."
   ]
  },
  {
   "cell_type": "markdown",
   "id": "0a0e16f3",
   "metadata": {},
   "source": [
    "## ROC"
   ]
  },
  {
   "cell_type": "code",
   "execution_count": null,
   "id": "03d8260b",
   "metadata": {},
   "outputs": [],
   "source": [
    "\"\"\"\n",
    "Receiver Operating Characteristic (ROC) Curve is a plot that helps us \n",
    "visualize the performance of a binary classifier when the threshold is varied. \n",
    "\"\"\"\n",
    "#ROC\n",
    "\n",
    "y_preds = model.predict(X_test).ravel()\n",
    "\n",
    "fpr, tpr, thresholds = roc_curve(y_test, y_preds)\n",
    "plt.figure(1)\n",
    "plt.plot([0, 1], [0, 1], 'y--')\n",
    "plt.plot(fpr, tpr, marker='.')\n",
    "plt.xlabel('False positive rate')\n",
    "plt.ylabel('True positive rate')\n",
    "plt.title('ROC curve')\n",
    "plt.show()\n",
    "\n",
    "\"\"\"\n",
    "#One way to find the best threshold once we calculate the true positive \n",
    "and false positive rates is ...\n",
    "The optimal cut off point would be where “true positive rate” is high \n",
    "and the “false positive rate” is low. \n",
    "Based on this logic let us find the threshold where tpr-(1-fpr) is zero (or close to 0)\n",
    "\"\"\"\n",
    "\n"
   ]
  },
  {
   "cell_type": "markdown",
   "id": "4aa7e1c4",
   "metadata": {},
   "source": [
    "## AUC"
   ]
  },
  {
   "cell_type": "code",
   "execution_count": null,
   "id": "27885c2a",
   "metadata": {},
   "outputs": [],
   "source": [
    "import pandas as pd\n",
    "i = np.arange(len(tpr)) \n",
    "roc = pd.DataFrame({'tf' : pd.Series(tpr-(1-fpr), index=i), 'thresholds' : pd.Series(thresholds, index=i)})\n",
    "ideal_roc_thresh = roc.iloc[(roc.tf-0).abs().argsort()[:1]]  #Locate the point where the value is close to 0\n",
    "print(\"Ideal threshold is: \", ideal_roc_thresh['thresholds']) \n",
    "\n",
    "#Now use this threshold value in the confusion matrix to visualize the balance\n",
    "#between tp, fp, fp, and fn\n",
    "\n",
    "\n",
    "#AUC\n",
    "#Area under the curve (AUC) for ROC plot can be used to understand hpw well a classifier \n",
    "#is performing. \n",
    "#% chance that the model can distinguish between positive and negative classes.\n",
    "\n",
    "\n",
    "auc_value = auc(fpr, tpr)\n",
    "print(\"Area under curve, AUC = \", auc_value)"
   ]
  },
  {
   "cell_type": "code",
   "execution_count": null,
   "id": "d0be5ea6",
   "metadata": {},
   "outputs": [],
   "source": []
  }
 ],
 "metadata": {
  "kernelspec": {
   "display_name": "Python 3 (ipykernel)",
   "language": "python",
   "name": "python3"
  },
  "language_info": {
   "codemirror_mode": {
    "name": "ipython",
    "version": 3
   },
   "file_extension": ".py",
   "mimetype": "text/x-python",
   "name": "python",
   "nbconvert_exporter": "python",
   "pygments_lexer": "ipython3",
   "version": "3.9.7"
  },
  "toc": {
   "base_numbering": 1,
   "nav_menu": {},
   "number_sections": true,
   "sideBar": true,
   "skip_h1_title": false,
   "title_cell": "Table of Contents",
   "title_sidebar": "Contents",
   "toc_cell": false,
   "toc_position": {
    "height": "calc(100% - 180px)",
    "left": "10px",
    "top": "150px",
    "width": "291.513px"
   },
   "toc_section_display": true,
   "toc_window_display": true
  }
 },
 "nbformat": 4,
 "nbformat_minor": 5
}
